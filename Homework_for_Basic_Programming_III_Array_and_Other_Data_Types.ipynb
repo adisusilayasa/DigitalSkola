{
  "nbformat": 4,
  "nbformat_minor": 0,
  "metadata": {
    "colab": {
      "name": "Copy of DS - Homework for Basic Programming III: Array and Other Data Types.ipynb",
      "provenance": [],
      "collapsed_sections": [],
      "include_colab_link": true
    },
    "kernelspec": {
      "display_name": "Python 3",
      "language": "python",
      "name": "python3"
    },
    "language_info": {
      "codemirror_mode": {
        "name": "ipython",
        "version": 3
      },
      "file_extension": ".py",
      "mimetype": "text/x-python",
      "name": "python",
      "nbconvert_exporter": "python",
      "pygments_lexer": "ipython3",
      "version": "3.7.6"
    }
  },
  "cells": [
    {
      "cell_type": "markdown",
      "metadata": {
        "id": "view-in-github",
        "colab_type": "text"
      },
      "source": [
        "<a href=\"https://colab.research.google.com/github/adisusilayasa/DigitalSkola/blob/main/Homework_for_Basic_Programming_III_Array_and_Other_Data_Types.ipynb\" target=\"_parent\"><img src=\"https://colab.research.google.com/assets/colab-badge.svg\" alt=\"Open In Colab\"/></a>"
      ]
    },
    {
      "cell_type": "markdown",
      "metadata": {
        "id": "1O3NGQSKzf_A"
      },
      "source": [
        "# List"
      ]
    },
    {
      "cell_type": "markdown",
      "metadata": {
        "id": "XD1fT351szI2"
      },
      "source": [
        "<h2>Soal 1: Akses List</h2>\n",
        "\n",
        "Lengkapi kode untuk menghasilkan suatu output yang di harapkan"
      ]
    },
    {
      "cell_type": "code",
      "metadata": {
        "id": "qXKteY88szI5"
      },
      "source": [
        "a = ['1', '13b', 'aa1', 1.32, 22.1, 2.34]\n",
        "# slicing list\n"
      ],
      "execution_count": null,
      "outputs": []
    },
    {
      "cell_type": "markdown",
      "metadata": {
        "id": "4Qp2wjmOszJJ"
      },
      "source": [
        "Expected Output :\n",
        "\n",
        "[ '13b', 'aa1', 1.32, 22.1 ]"
      ]
    },
    {
      "cell_type": "markdown",
      "metadata": {
        "id": "OEU53cA_szKG"
      },
      "source": [
        "<h2>Soal 2: List Operation</h2>\n",
        "\n",
        "Lengkapi kode untuk menghasilkan suatu output yang di harapkan"
      ]
    },
    {
      "cell_type": "code",
      "metadata": {
        "id": "N-dxC1qYszKJ"
      },
      "source": [
        "a = [1, 3, 5]\n",
        "b = [5, 1, 3]\n",
        "# combine list\n"
      ],
      "execution_count": null,
      "outputs": []
    },
    {
      "cell_type": "markdown",
      "metadata": {
        "id": "g0xy9HZrszKV"
      },
      "source": [
        "Expected Output :\n",
        "\n",
        "[5, 1, 3, 1, 3, 5]"
      ]
    },
    {
      "cell_type": "markdown",
      "metadata": {
        "id": "onKmJ3XqY5FN"
      },
      "source": [
        "## Soal 3: List Comprehension\n",
        "\n",
        "Gunakan metode **list comprehension** untuk mencari anggota dari S yang habis di bagi 2, kemudian assign hasilnya dalam bentuk list ke dalam variabel T."
      ]
    },
    {
      "cell_type": "code",
      "metadata": {
        "id": "xs3OWJP_Z5rb"
      },
      "source": [
        "S = [0, 1, 4, 9, 16, 25, 36, 49, 64, 81]\n"
      ],
      "execution_count": null,
      "outputs": []
    },
    {
      "cell_type": "markdown",
      "metadata": {
        "id": "Jjn-28CDaShb"
      },
      "source": [
        "Expected Output:\n",
        "\n",
        "[0, 4, 16, 36, 64]"
      ]
    },
    {
      "cell_type": "markdown",
      "metadata": {
        "id": "gdBwjXz8zoMi"
      },
      "source": [
        "# Dictionary"
      ]
    },
    {
      "cell_type": "markdown",
      "metadata": {
        "id": "fyoYEJKw6qoo"
      },
      "source": [
        "<h2>Soal 4: Akses Dictionary</h2>\n",
        "\n",
        "Lengkapi kode untuk menghasilkan suatu output yang di harapkan"
      ]
    },
    {
      "cell_type": "code",
      "metadata": {
        "id": "rs7ByDTw6qop"
      },
      "source": [
        "europe = {'spain':'madrid', 'france':'paris', 'germany':'berlin', 'norway':'oslo' }\n",
        "\n",
        "# print semua key yang ada di objek europe\n",
        "\n",
        "\n",
        "\n",
        "# print nilai dari key france\n",
        "\n"
      ],
      "execution_count": null,
      "outputs": []
    },
    {
      "cell_type": "markdown",
      "metadata": {
        "id": "LF8QRq8E6qov"
      },
      "source": [
        "Expected Output:\n",
        "\n",
        "dict_keys(['spain', 'france', 'germany', 'norway'])\n",
        "\n",
        "paris"
      ]
    },
    {
      "cell_type": "markdown",
      "metadata": {
        "id": "xefUN_T56qpA"
      },
      "source": [
        "<h2>Soal 5: Loop Dictionary</h2>\n",
        "    \n",
        "Buatlah kode untuk menghasilkan suatu output yang di harapkan"
      ]
    },
    {
      "cell_type": "code",
      "metadata": {
        "id": "SkYQ0sD76qpA"
      },
      "source": [
        "country = { \n",
        "           'spain': { 'capital':'madrid', 'population':46.77 },\n",
        "           'france': { 'capital':'paris', 'population':66.03 },\n",
        "           'germany': { 'capital':'berlin', 'population':80.62 },\n",
        "           'norway': { 'capital':'oslo', 'population':5.084 },\n",
        "           'indonesia' : {'capital':'jakarta', 'population':250}\n",
        "         }\n",
        "\n",
        "# your code starts here\n"
      ],
      "execution_count": null,
      "outputs": []
    },
    {
      "cell_type": "markdown",
      "metadata": {
        "id": "YjX6xAtj6qpE"
      },
      "source": [
        "Expected Output:\n",
        "    \n",
        "Ibukota spain adalah madrid\n",
        "\n",
        "Ibukota france adalah paris\n",
        "\n",
        "Ibukota germany adalah berlin\n",
        "\n",
        "Ibukota norway adalah oslo\n",
        "\n",
        "Ibukota indonesia adalah jakarta"
      ]
    }
  ]
}